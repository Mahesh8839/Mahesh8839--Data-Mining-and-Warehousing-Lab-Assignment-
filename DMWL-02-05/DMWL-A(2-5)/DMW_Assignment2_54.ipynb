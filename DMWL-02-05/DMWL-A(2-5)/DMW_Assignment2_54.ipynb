{
  "cells": [
    {
      "cell_type": "markdown",
      "metadata": {
        "id": "zCgsYWI0GPLj"
      },
      "source": [
        "#Apriory Algorithm"
      ]
    },
    {
      "cell_type": "code",
      "execution_count": 9,
      "metadata": {
        "id": "tqRKbGllGPLn"
      },
      "outputs": [],
      "source": [
        "import numpy as np \n",
        "import pandas as pd \n",
        "from mlxtend.frequent_patterns import apriori, association_rules "
      ]
    },
    {
      "cell_type": "code",
      "execution_count": 10,
      "metadata": {
        "id": "fWdEUjQ2GPLo"
      },
      "outputs": [],
      "source": [
        "df = pd.DataFrame(pd.read_csv(\"Shopping_Mall.csv\"))"
      ]
    },
    {
      "cell_type": "code",
      "execution_count": 11,
      "metadata": {
        "colab": {
          "base_uri": "https://localhost:8080/",
          "height": 206
        },
        "id": "P4d5-h1WGPLo",
        "outputId": "b87c8416-e050-4b80-bea7-bfcd2f7259d1"
      },
      "outputs": [
        {
          "output_type": "execute_result",
          "data": {
            "text/plain": [
              "  InvoiceNo StockCode                          Description  Quantity  \\\n",
              "0    536365    85123A   WHITE HANGING HEART T-LIGHT HOLDER       6.0   \n",
              "1    536365     71053                  WHITE METAL LANTERN       6.0   \n",
              "2    536365    84406B       CREAM CUPID HEARTS COAT HANGER       8.0   \n",
              "3    536365    84029G  KNITTED UNION FLAG HOT WATER BOTTLE       6.0   \n",
              "4    536365    84029E       RED WOOLLY HOTTIE WHITE HEART.       6.0   \n",
              "\n",
              "           InvoiceDate  UnitPrice  CustomerID         Country  \n",
              "0  2010-12-01 08:26:00       2.55     17850.0  United Kingdom  \n",
              "1  2010-12-01 08:26:00       3.39     17850.0  United Kingdom  \n",
              "2  2010-12-01 08:26:00       2.75     17850.0  United Kingdom  \n",
              "3  2010-12-01 08:26:00       3.39     17850.0  United Kingdom  \n",
              "4  2010-12-01 08:26:00       3.39     17850.0  United Kingdom  "
            ],
            "text/html": [
              "\n",
              "  <div id=\"df-3bee6439-fc6a-4a3e-ae34-f97be3d8cf79\">\n",
              "    <div class=\"colab-df-container\">\n",
              "      <div>\n",
              "<style scoped>\n",
              "    .dataframe tbody tr th:only-of-type {\n",
              "        vertical-align: middle;\n",
              "    }\n",
              "\n",
              "    .dataframe tbody tr th {\n",
              "        vertical-align: top;\n",
              "    }\n",
              "\n",
              "    .dataframe thead th {\n",
              "        text-align: right;\n",
              "    }\n",
              "</style>\n",
              "<table border=\"1\" class=\"dataframe\">\n",
              "  <thead>\n",
              "    <tr style=\"text-align: right;\">\n",
              "      <th></th>\n",
              "      <th>InvoiceNo</th>\n",
              "      <th>StockCode</th>\n",
              "      <th>Description</th>\n",
              "      <th>Quantity</th>\n",
              "      <th>InvoiceDate</th>\n",
              "      <th>UnitPrice</th>\n",
              "      <th>CustomerID</th>\n",
              "      <th>Country</th>\n",
              "    </tr>\n",
              "  </thead>\n",
              "  <tbody>\n",
              "    <tr>\n",
              "      <th>0</th>\n",
              "      <td>536365</td>\n",
              "      <td>85123A</td>\n",
              "      <td>WHITE HANGING HEART T-LIGHT HOLDER</td>\n",
              "      <td>6.0</td>\n",
              "      <td>2010-12-01 08:26:00</td>\n",
              "      <td>2.55</td>\n",
              "      <td>17850.0</td>\n",
              "      <td>United Kingdom</td>\n",
              "    </tr>\n",
              "    <tr>\n",
              "      <th>1</th>\n",
              "      <td>536365</td>\n",
              "      <td>71053</td>\n",
              "      <td>WHITE METAL LANTERN</td>\n",
              "      <td>6.0</td>\n",
              "      <td>2010-12-01 08:26:00</td>\n",
              "      <td>3.39</td>\n",
              "      <td>17850.0</td>\n",
              "      <td>United Kingdom</td>\n",
              "    </tr>\n",
              "    <tr>\n",
              "      <th>2</th>\n",
              "      <td>536365</td>\n",
              "      <td>84406B</td>\n",
              "      <td>CREAM CUPID HEARTS COAT HANGER</td>\n",
              "      <td>8.0</td>\n",
              "      <td>2010-12-01 08:26:00</td>\n",
              "      <td>2.75</td>\n",
              "      <td>17850.0</td>\n",
              "      <td>United Kingdom</td>\n",
              "    </tr>\n",
              "    <tr>\n",
              "      <th>3</th>\n",
              "      <td>536365</td>\n",
              "      <td>84029G</td>\n",
              "      <td>KNITTED UNION FLAG HOT WATER BOTTLE</td>\n",
              "      <td>6.0</td>\n",
              "      <td>2010-12-01 08:26:00</td>\n",
              "      <td>3.39</td>\n",
              "      <td>17850.0</td>\n",
              "      <td>United Kingdom</td>\n",
              "    </tr>\n",
              "    <tr>\n",
              "      <th>4</th>\n",
              "      <td>536365</td>\n",
              "      <td>84029E</td>\n",
              "      <td>RED WOOLLY HOTTIE WHITE HEART.</td>\n",
              "      <td>6.0</td>\n",
              "      <td>2010-12-01 08:26:00</td>\n",
              "      <td>3.39</td>\n",
              "      <td>17850.0</td>\n",
              "      <td>United Kingdom</td>\n",
              "    </tr>\n",
              "  </tbody>\n",
              "</table>\n",
              "</div>\n",
              "      <button class=\"colab-df-convert\" onclick=\"convertToInteractive('df-3bee6439-fc6a-4a3e-ae34-f97be3d8cf79')\"\n",
              "              title=\"Convert this dataframe to an interactive table.\"\n",
              "              style=\"display:none;\">\n",
              "        \n",
              "  <svg xmlns=\"http://www.w3.org/2000/svg\" height=\"24px\"viewBox=\"0 0 24 24\"\n",
              "       width=\"24px\">\n",
              "    <path d=\"M0 0h24v24H0V0z\" fill=\"none\"/>\n",
              "    <path d=\"M18.56 5.44l.94 2.06.94-2.06 2.06-.94-2.06-.94-.94-2.06-.94 2.06-2.06.94zm-11 1L8.5 8.5l.94-2.06 2.06-.94-2.06-.94L8.5 2.5l-.94 2.06-2.06.94zm10 10l.94 2.06.94-2.06 2.06-.94-2.06-.94-.94-2.06-.94 2.06-2.06.94z\"/><path d=\"M17.41 7.96l-1.37-1.37c-.4-.4-.92-.59-1.43-.59-.52 0-1.04.2-1.43.59L10.3 9.45l-7.72 7.72c-.78.78-.78 2.05 0 2.83L4 21.41c.39.39.9.59 1.41.59.51 0 1.02-.2 1.41-.59l7.78-7.78 2.81-2.81c.8-.78.8-2.07 0-2.86zM5.41 20L4 18.59l7.72-7.72 1.47 1.35L5.41 20z\"/>\n",
              "  </svg>\n",
              "      </button>\n",
              "      \n",
              "  <style>\n",
              "    .colab-df-container {\n",
              "      display:flex;\n",
              "      flex-wrap:wrap;\n",
              "      gap: 12px;\n",
              "    }\n",
              "\n",
              "    .colab-df-convert {\n",
              "      background-color: #E8F0FE;\n",
              "      border: none;\n",
              "      border-radius: 50%;\n",
              "      cursor: pointer;\n",
              "      display: none;\n",
              "      fill: #1967D2;\n",
              "      height: 32px;\n",
              "      padding: 0 0 0 0;\n",
              "      width: 32px;\n",
              "    }\n",
              "\n",
              "    .colab-df-convert:hover {\n",
              "      background-color: #E2EBFA;\n",
              "      box-shadow: 0px 1px 2px rgba(60, 64, 67, 0.3), 0px 1px 3px 1px rgba(60, 64, 67, 0.15);\n",
              "      fill: #174EA6;\n",
              "    }\n",
              "\n",
              "    [theme=dark] .colab-df-convert {\n",
              "      background-color: #3B4455;\n",
              "      fill: #D2E3FC;\n",
              "    }\n",
              "\n",
              "    [theme=dark] .colab-df-convert:hover {\n",
              "      background-color: #434B5C;\n",
              "      box-shadow: 0px 1px 3px 1px rgba(0, 0, 0, 0.15);\n",
              "      filter: drop-shadow(0px 1px 2px rgba(0, 0, 0, 0.3));\n",
              "      fill: #FFFFFF;\n",
              "    }\n",
              "  </style>\n",
              "\n",
              "      <script>\n",
              "        const buttonEl =\n",
              "          document.querySelector('#df-3bee6439-fc6a-4a3e-ae34-f97be3d8cf79 button.colab-df-convert');\n",
              "        buttonEl.style.display =\n",
              "          google.colab.kernel.accessAllowed ? 'block' : 'none';\n",
              "\n",
              "        async function convertToInteractive(key) {\n",
              "          const element = document.querySelector('#df-3bee6439-fc6a-4a3e-ae34-f97be3d8cf79');\n",
              "          const dataTable =\n",
              "            await google.colab.kernel.invokeFunction('convertToInteractive',\n",
              "                                                     [key], {});\n",
              "          if (!dataTable) return;\n",
              "\n",
              "          const docLinkHtml = 'Like what you see? Visit the ' +\n",
              "            '<a target=\"_blank\" href=https://colab.research.google.com/notebooks/data_table.ipynb>data table notebook</a>'\n",
              "            + ' to learn more about interactive tables.';\n",
              "          element.innerHTML = '';\n",
              "          dataTable['output_type'] = 'display_data';\n",
              "          await google.colab.output.renderOutput(dataTable, element);\n",
              "          const docLink = document.createElement('div');\n",
              "          docLink.innerHTML = docLinkHtml;\n",
              "          element.appendChild(docLink);\n",
              "        }\n",
              "      </script>\n",
              "    </div>\n",
              "  </div>\n",
              "  "
            ]
          },
          "metadata": {},
          "execution_count": 11
        }
      ],
      "source": [
        "df.head()"
      ]
    },
    {
      "cell_type": "code",
      "execution_count": 12,
      "metadata": {
        "colab": {
          "base_uri": "https://localhost:8080/"
        },
        "id": "jI48zlUEGPLq",
        "outputId": "e98df794-d079-46cf-cb05-a3ea6bea6462"
      },
      "outputs": [
        {
          "output_type": "execute_result",
          "data": {
            "text/plain": [
              "(285174, 8)"
            ]
          },
          "metadata": {},
          "execution_count": 12
        }
      ],
      "source": [
        "df.shape"
      ]
    },
    {
      "cell_type": "code",
      "execution_count": 13,
      "metadata": {
        "scrolled": true,
        "colab": {
          "base_uri": "https://localhost:8080/"
        },
        "id": "bLkMxsPMGPLp",
        "outputId": "08a4c0c5-4482-4dd8-eae2-0d7e7f19ce6c"
      },
      "outputs": [
        {
          "output_type": "execute_result",
          "data": {
            "text/plain": [
              "Index(['InvoiceNo', 'StockCode', 'Description', 'Quantity', 'InvoiceDate',\n",
              "       'UnitPrice', 'CustomerID', 'Country'],\n",
              "      dtype='object')"
            ]
          },
          "metadata": {},
          "execution_count": 13
        }
      ],
      "source": [
        "df.columns"
      ]
    },
    {
      "cell_type": "code",
      "execution_count": 14,
      "metadata": {
        "colab": {
          "base_uri": "https://localhost:8080/"
        },
        "id": "tp3gCDB5GPLq",
        "outputId": "30be338b-ea14-405c-f95c-ea9bf2b94c42"
      },
      "outputs": [
        {
          "output_type": "execute_result",
          "data": {
            "text/plain": [
              "True"
            ]
          },
          "metadata": {},
          "execution_count": 14
        }
      ],
      "source": [
        "df.isnull().values.any()"
      ]
    },
    {
      "cell_type": "code",
      "execution_count": 15,
      "metadata": {
        "colab": {
          "base_uri": "https://localhost:8080/"
        },
        "id": "zWzokc6VGPLq",
        "outputId": "8020083c-f0fa-4595-8f48-175521f96c1f"
      },
      "outputs": [
        {
          "output_type": "execute_result",
          "data": {
            "text/plain": [
              "InvoiceNo          0\n",
              "StockCode          0\n",
              "Description     1079\n",
              "Quantity           1\n",
              "InvoiceDate        1\n",
              "UnitPrice          1\n",
              "CustomerID     81031\n",
              "Country            1\n",
              "dtype: int64"
            ]
          },
          "metadata": {},
          "execution_count": 15
        }
      ],
      "source": [
        "df.isnull().sum()"
      ]
    },
    {
      "cell_type": "markdown",
      "metadata": {
        "id": "TPx14jlJGPLr"
      },
      "source": [
        "#### Data Preprocessing "
      ]
    },
    {
      "cell_type": "code",
      "execution_count": 16,
      "metadata": {
        "id": "v-6xqhY73j45"
      },
      "outputs": [],
      "source": [
        "df['Description'] = df['Description'].str.strip() \n",
        "  \n",
        "# Dropping the rows without any invoice number \n",
        "df.dropna(axis = 0, subset =['InvoiceNo'], inplace = True) \n",
        "df['InvoiceNo'] = df['InvoiceNo'].astype('str') \n",
        "  \n",
        "# Dropping all transactions which were done on credit \n",
        "df = df[~df['InvoiceNo'].str.contains('C')] "
      ]
    },
    {
      "cell_type": "code",
      "execution_count": 17,
      "metadata": {
        "colab": {
          "base_uri": "https://localhost:8080/"
        },
        "id": "CciVoIiWGPLs",
        "outputId": "8f435f59-2fc8-4159-e7cb-eff2ea59c3c7"
      },
      "outputs": [
        {
          "output_type": "execute_result",
          "data": {
            "text/plain": [
              "array(['United Kingdom', 'France', 'Australia', 'Netherlands', 'Germany',\n",
              "       'Norway', 'EIRE', 'Switzerland', 'Spain', 'Poland', 'Portugal',\n",
              "       'Italy', 'Belgium', 'Lithuania', 'Japan', 'Iceland',\n",
              "       'Channel Islands', 'Denmark', 'Cyprus', 'Sweden', 'Finland',\n",
              "       'Austria', 'Bahrain', 'Israel', 'Greece', 'Hong Kong', 'Singapore',\n",
              "       'Lebanon', 'United Arab Emirates', 'Saudi Arabia',\n",
              "       'Czech Republic', 'Canada', 'Unspecified', 'Brazil', 'USA',\n",
              "       'European Community', 'Malta', nan], dtype=object)"
            ]
          },
          "metadata": {},
          "execution_count": 17
        }
      ],
      "source": [
        "# Let's see the countries in our dataset\n",
        "\n",
        "df.Country.unique() \n"
      ]
    },
    {
      "cell_type": "code",
      "execution_count": 18,
      "metadata": {
        "id": "LCgPeRNmGPLu"
      },
      "outputs": [],
      "source": [
        "# Transactions done in France \n",
        "basket_France = (df[df['Country'] ==\"France\"] \n",
        "          .groupby(['InvoiceNo', 'Description'])['Quantity'] \n",
        "          .sum().unstack().reset_index().fillna(0) \n",
        "          .set_index('InvoiceNo')) "
      ]
    },
    {
      "cell_type": "code",
      "execution_count": 19,
      "metadata": {
        "id": "J1ZZ7PNVGPLu"
      },
      "outputs": [],
      "source": [
        "# Defining the hot encoding function to make the data suitable  \n",
        "\n",
        "def hot_encode(x): \n",
        "    if(x<= 0): \n",
        "        return 0\n",
        "    if(x>= 1): \n",
        "        return 1"
      ]
    },
    {
      "cell_type": "markdown",
      "metadata": {
        "id": "E8io52WdGPLu"
      },
      "source": [
        "Suppose we want to analyze the market trend to France! "
      ]
    },
    {
      "cell_type": "code",
      "execution_count": 20,
      "metadata": {
        "id": "LjqtIYqQGPLu"
      },
      "outputs": [],
      "source": [
        "# Applying one hot encoding \n",
        "\n",
        "basket_encoded = basket_France.applymap(hot_encode) \n",
        "basket_France = basket_encoded "
      ]
    },
    {
      "cell_type": "code",
      "execution_count": 21,
      "metadata": {
        "colab": {
          "base_uri": "https://localhost:8080/",
          "height": 418
        },
        "id": "EmF01Y8gGPLv",
        "outputId": "c339d0cf-1a04-4f71-d848-444796a7a112"
      },
      "outputs": [
        {
          "output_type": "execute_result",
          "data": {
            "text/plain": [
              "Description  10 COLOUR SPACEBOY PEN  12 COLOURED PARTY BALLOONS  \\\n",
              "InvoiceNo                                                         \n",
              "536370                            0                           0   \n",
              "536852                            0                           0   \n",
              "536974                            0                           0   \n",
              "537065                            0                           0   \n",
              "537463                            0                           0   \n",
              "\n",
              "Description  12 EGG HOUSE PAINTED WOOD  12 MESSAGE CARDS WITH ENVELOPES  \\\n",
              "InvoiceNo                                                                 \n",
              "536370                               0                                0   \n",
              "536852                               0                                0   \n",
              "536974                               0                                0   \n",
              "537065                               0                                0   \n",
              "537463                               0                                0   \n",
              "\n",
              "Description  12 PENCIL SMALL TUBE WOODLAND  \\\n",
              "InvoiceNo                                    \n",
              "536370                                   0   \n",
              "536852                                   0   \n",
              "536974                                   0   \n",
              "537065                                   0   \n",
              "537463                                   0   \n",
              "\n",
              "Description  12 PENCILS SMALL TUBE RED RETROSPOT  12 PENCILS SMALL TUBE SKULL  \\\n",
              "InvoiceNo                                                                       \n",
              "536370                                         0                            0   \n",
              "536852                                         0                            0   \n",
              "536974                                         0                            0   \n",
              "537065                                         0                            0   \n",
              "537463                                         0                            0   \n",
              "\n",
              "Description  12 PENCILS TALL TUBE RED RETROSPOT  \\\n",
              "InvoiceNo                                         \n",
              "536370                                        0   \n",
              "536852                                        0   \n",
              "536974                                        0   \n",
              "537065                                        0   \n",
              "537463                                        0   \n",
              "\n",
              "Description  12 PENCILS TALL TUBE WOODLAND  \\\n",
              "InvoiceNo                                    \n",
              "536370                                   0   \n",
              "536852                                   0   \n",
              "536974                                   0   \n",
              "537065                                   0   \n",
              "537463                                   0   \n",
              "\n",
              "Description  18PC WOODEN CUTLERY SET DISPOSABLE  ...  WRAP POPPIES  DESIGN  \\\n",
              "InvoiceNo                                        ...                         \n",
              "536370                                        0  ...                     0   \n",
              "536852                                        0  ...                     0   \n",
              "536974                                        0  ...                     0   \n",
              "537065                                        0  ...                     0   \n",
              "537463                                        0  ...                     0   \n",
              "\n",
              "Description  WRAP RED APPLES  WRAP VINTAGE PETALS  DESIGN  \\\n",
              "InvoiceNo                                                   \n",
              "536370                     0                            0   \n",
              "536852                     0                            0   \n",
              "536974                     0                            0   \n",
              "537065                     0                            0   \n",
              "537463                     0                            0   \n",
              "\n",
              "Description  YELLOW COAT RACK PARIS FASHION  ZINC  STAR T-LIGHT HOLDER  \\\n",
              "InvoiceNo                                                                \n",
              "536370                                    0                          0   \n",
              "536852                                    0                          0   \n",
              "536974                                    0                          0   \n",
              "537065                                    0                          0   \n",
              "537463                                    0                          0   \n",
              "\n",
              "Description  ZINC FOLKART SLEIGH BELLS  ZINC HERB GARDEN CONTAINER  \\\n",
              "InvoiceNo                                                            \n",
              "536370                               0                           0   \n",
              "536852                               0                           0   \n",
              "536974                               0                           0   \n",
              "537065                               0                           0   \n",
              "537463                               0                           0   \n",
              "\n",
              "Description  ZINC METAL HEART DECORATION  ZINC T-LIGHT HOLDER STAR LARGE  \\\n",
              "InvoiceNo                                                                  \n",
              "536370                                 0                               0   \n",
              "536852                                 0                               0   \n",
              "536974                                 0                               0   \n",
              "537065                                 0                               0   \n",
              "537463                                 0                               0   \n",
              "\n",
              "Description  ZINC T-LIGHT HOLDER STARS SMALL  \n",
              "InvoiceNo                                     \n",
              "536370                                     0  \n",
              "536852                                     0  \n",
              "536974                                     0  \n",
              "537065                                     0  \n",
              "537463                                     0  \n",
              "\n",
              "[5 rows x 1013 columns]"
            ],
            "text/html": [
              "\n",
              "  <div id=\"df-6b785ce7-7529-4ee9-8e9e-795e8df47b03\">\n",
              "    <div class=\"colab-df-container\">\n",
              "      <div>\n",
              "<style scoped>\n",
              "    .dataframe tbody tr th:only-of-type {\n",
              "        vertical-align: middle;\n",
              "    }\n",
              "\n",
              "    .dataframe tbody tr th {\n",
              "        vertical-align: top;\n",
              "    }\n",
              "\n",
              "    .dataframe thead th {\n",
              "        text-align: right;\n",
              "    }\n",
              "</style>\n",
              "<table border=\"1\" class=\"dataframe\">\n",
              "  <thead>\n",
              "    <tr style=\"text-align: right;\">\n",
              "      <th>Description</th>\n",
              "      <th>10 COLOUR SPACEBOY PEN</th>\n",
              "      <th>12 COLOURED PARTY BALLOONS</th>\n",
              "      <th>12 EGG HOUSE PAINTED WOOD</th>\n",
              "      <th>12 MESSAGE CARDS WITH ENVELOPES</th>\n",
              "      <th>12 PENCIL SMALL TUBE WOODLAND</th>\n",
              "      <th>12 PENCILS SMALL TUBE RED RETROSPOT</th>\n",
              "      <th>12 PENCILS SMALL TUBE SKULL</th>\n",
              "      <th>12 PENCILS TALL TUBE RED RETROSPOT</th>\n",
              "      <th>12 PENCILS TALL TUBE WOODLAND</th>\n",
              "      <th>18PC WOODEN CUTLERY SET DISPOSABLE</th>\n",
              "      <th>...</th>\n",
              "      <th>WRAP POPPIES  DESIGN</th>\n",
              "      <th>WRAP RED APPLES</th>\n",
              "      <th>WRAP VINTAGE PETALS  DESIGN</th>\n",
              "      <th>YELLOW COAT RACK PARIS FASHION</th>\n",
              "      <th>ZINC  STAR T-LIGHT HOLDER</th>\n",
              "      <th>ZINC FOLKART SLEIGH BELLS</th>\n",
              "      <th>ZINC HERB GARDEN CONTAINER</th>\n",
              "      <th>ZINC METAL HEART DECORATION</th>\n",
              "      <th>ZINC T-LIGHT HOLDER STAR LARGE</th>\n",
              "      <th>ZINC T-LIGHT HOLDER STARS SMALL</th>\n",
              "    </tr>\n",
              "    <tr>\n",
              "      <th>InvoiceNo</th>\n",
              "      <th></th>\n",
              "      <th></th>\n",
              "      <th></th>\n",
              "      <th></th>\n",
              "      <th></th>\n",
              "      <th></th>\n",
              "      <th></th>\n",
              "      <th></th>\n",
              "      <th></th>\n",
              "      <th></th>\n",
              "      <th></th>\n",
              "      <th></th>\n",
              "      <th></th>\n",
              "      <th></th>\n",
              "      <th></th>\n",
              "      <th></th>\n",
              "      <th></th>\n",
              "      <th></th>\n",
              "      <th></th>\n",
              "      <th></th>\n",
              "      <th></th>\n",
              "    </tr>\n",
              "  </thead>\n",
              "  <tbody>\n",
              "    <tr>\n",
              "      <th>536370</th>\n",
              "      <td>0</td>\n",
              "      <td>0</td>\n",
              "      <td>0</td>\n",
              "      <td>0</td>\n",
              "      <td>0</td>\n",
              "      <td>0</td>\n",
              "      <td>0</td>\n",
              "      <td>0</td>\n",
              "      <td>0</td>\n",
              "      <td>0</td>\n",
              "      <td>...</td>\n",
              "      <td>0</td>\n",
              "      <td>0</td>\n",
              "      <td>0</td>\n",
              "      <td>0</td>\n",
              "      <td>0</td>\n",
              "      <td>0</td>\n",
              "      <td>0</td>\n",
              "      <td>0</td>\n",
              "      <td>0</td>\n",
              "      <td>0</td>\n",
              "    </tr>\n",
              "    <tr>\n",
              "      <th>536852</th>\n",
              "      <td>0</td>\n",
              "      <td>0</td>\n",
              "      <td>0</td>\n",
              "      <td>0</td>\n",
              "      <td>0</td>\n",
              "      <td>0</td>\n",
              "      <td>0</td>\n",
              "      <td>0</td>\n",
              "      <td>0</td>\n",
              "      <td>0</td>\n",
              "      <td>...</td>\n",
              "      <td>0</td>\n",
              "      <td>0</td>\n",
              "      <td>0</td>\n",
              "      <td>0</td>\n",
              "      <td>0</td>\n",
              "      <td>0</td>\n",
              "      <td>0</td>\n",
              "      <td>0</td>\n",
              "      <td>0</td>\n",
              "      <td>0</td>\n",
              "    </tr>\n",
              "    <tr>\n",
              "      <th>536974</th>\n",
              "      <td>0</td>\n",
              "      <td>0</td>\n",
              "      <td>0</td>\n",
              "      <td>0</td>\n",
              "      <td>0</td>\n",
              "      <td>0</td>\n",
              "      <td>0</td>\n",
              "      <td>0</td>\n",
              "      <td>0</td>\n",
              "      <td>0</td>\n",
              "      <td>...</td>\n",
              "      <td>0</td>\n",
              "      <td>0</td>\n",
              "      <td>0</td>\n",
              "      <td>0</td>\n",
              "      <td>0</td>\n",
              "      <td>0</td>\n",
              "      <td>0</td>\n",
              "      <td>0</td>\n",
              "      <td>0</td>\n",
              "      <td>0</td>\n",
              "    </tr>\n",
              "    <tr>\n",
              "      <th>537065</th>\n",
              "      <td>0</td>\n",
              "      <td>0</td>\n",
              "      <td>0</td>\n",
              "      <td>0</td>\n",
              "      <td>0</td>\n",
              "      <td>0</td>\n",
              "      <td>0</td>\n",
              "      <td>0</td>\n",
              "      <td>0</td>\n",
              "      <td>0</td>\n",
              "      <td>...</td>\n",
              "      <td>0</td>\n",
              "      <td>0</td>\n",
              "      <td>0</td>\n",
              "      <td>0</td>\n",
              "      <td>0</td>\n",
              "      <td>0</td>\n",
              "      <td>0</td>\n",
              "      <td>0</td>\n",
              "      <td>0</td>\n",
              "      <td>0</td>\n",
              "    </tr>\n",
              "    <tr>\n",
              "      <th>537463</th>\n",
              "      <td>0</td>\n",
              "      <td>0</td>\n",
              "      <td>0</td>\n",
              "      <td>0</td>\n",
              "      <td>0</td>\n",
              "      <td>0</td>\n",
              "      <td>0</td>\n",
              "      <td>0</td>\n",
              "      <td>0</td>\n",
              "      <td>0</td>\n",
              "      <td>...</td>\n",
              "      <td>0</td>\n",
              "      <td>0</td>\n",
              "      <td>0</td>\n",
              "      <td>0</td>\n",
              "      <td>0</td>\n",
              "      <td>0</td>\n",
              "      <td>0</td>\n",
              "      <td>0</td>\n",
              "      <td>0</td>\n",
              "      <td>0</td>\n",
              "    </tr>\n",
              "  </tbody>\n",
              "</table>\n",
              "<p>5 rows × 1013 columns</p>\n",
              "</div>\n",
              "      <button class=\"colab-df-convert\" onclick=\"convertToInteractive('df-6b785ce7-7529-4ee9-8e9e-795e8df47b03')\"\n",
              "              title=\"Convert this dataframe to an interactive table.\"\n",
              "              style=\"display:none;\">\n",
              "        \n",
              "  <svg xmlns=\"http://www.w3.org/2000/svg\" height=\"24px\"viewBox=\"0 0 24 24\"\n",
              "       width=\"24px\">\n",
              "    <path d=\"M0 0h24v24H0V0z\" fill=\"none\"/>\n",
              "    <path d=\"M18.56 5.44l.94 2.06.94-2.06 2.06-.94-2.06-.94-.94-2.06-.94 2.06-2.06.94zm-11 1L8.5 8.5l.94-2.06 2.06-.94-2.06-.94L8.5 2.5l-.94 2.06-2.06.94zm10 10l.94 2.06.94-2.06 2.06-.94-2.06-.94-.94-2.06-.94 2.06-2.06.94z\"/><path d=\"M17.41 7.96l-1.37-1.37c-.4-.4-.92-.59-1.43-.59-.52 0-1.04.2-1.43.59L10.3 9.45l-7.72 7.72c-.78.78-.78 2.05 0 2.83L4 21.41c.39.39.9.59 1.41.59.51 0 1.02-.2 1.41-.59l7.78-7.78 2.81-2.81c.8-.78.8-2.07 0-2.86zM5.41 20L4 18.59l7.72-7.72 1.47 1.35L5.41 20z\"/>\n",
              "  </svg>\n",
              "      </button>\n",
              "      \n",
              "  <style>\n",
              "    .colab-df-container {\n",
              "      display:flex;\n",
              "      flex-wrap:wrap;\n",
              "      gap: 12px;\n",
              "    }\n",
              "\n",
              "    .colab-df-convert {\n",
              "      background-color: #E8F0FE;\n",
              "      border: none;\n",
              "      border-radius: 50%;\n",
              "      cursor: pointer;\n",
              "      display: none;\n",
              "      fill: #1967D2;\n",
              "      height: 32px;\n",
              "      padding: 0 0 0 0;\n",
              "      width: 32px;\n",
              "    }\n",
              "\n",
              "    .colab-df-convert:hover {\n",
              "      background-color: #E2EBFA;\n",
              "      box-shadow: 0px 1px 2px rgba(60, 64, 67, 0.3), 0px 1px 3px 1px rgba(60, 64, 67, 0.15);\n",
              "      fill: #174EA6;\n",
              "    }\n",
              "\n",
              "    [theme=dark] .colab-df-convert {\n",
              "      background-color: #3B4455;\n",
              "      fill: #D2E3FC;\n",
              "    }\n",
              "\n",
              "    [theme=dark] .colab-df-convert:hover {\n",
              "      background-color: #434B5C;\n",
              "      box-shadow: 0px 1px 3px 1px rgba(0, 0, 0, 0.15);\n",
              "      filter: drop-shadow(0px 1px 2px rgba(0, 0, 0, 0.3));\n",
              "      fill: #FFFFFF;\n",
              "    }\n",
              "  </style>\n",
              "\n",
              "      <script>\n",
              "        const buttonEl =\n",
              "          document.querySelector('#df-6b785ce7-7529-4ee9-8e9e-795e8df47b03 button.colab-df-convert');\n",
              "        buttonEl.style.display =\n",
              "          google.colab.kernel.accessAllowed ? 'block' : 'none';\n",
              "\n",
              "        async function convertToInteractive(key) {\n",
              "          const element = document.querySelector('#df-6b785ce7-7529-4ee9-8e9e-795e8df47b03');\n",
              "          const dataTable =\n",
              "            await google.colab.kernel.invokeFunction('convertToInteractive',\n",
              "                                                     [key], {});\n",
              "          if (!dataTable) return;\n",
              "\n",
              "          const docLinkHtml = 'Like what you see? Visit the ' +\n",
              "            '<a target=\"_blank\" href=https://colab.research.google.com/notebooks/data_table.ipynb>data table notebook</a>'\n",
              "            + ' to learn more about interactive tables.';\n",
              "          element.innerHTML = '';\n",
              "          dataTable['output_type'] = 'display_data';\n",
              "          await google.colab.output.renderOutput(dataTable, element);\n",
              "          const docLink = document.createElement('div');\n",
              "          docLink.innerHTML = docLinkHtml;\n",
              "          element.appendChild(docLink);\n",
              "        }\n",
              "      </script>\n",
              "    </div>\n",
              "  </div>\n",
              "  "
            ]
          },
          "metadata": {},
          "execution_count": 21
        }
      ],
      "source": [
        "basket_France.head()"
      ]
    },
    {
      "cell_type": "markdown",
      "metadata": {
        "id": "43pZ814YGPLv"
      },
      "source": [
        "### Building the model"
      ]
    },
    {
      "cell_type": "code",
      "execution_count": 22,
      "metadata": {
        "id": "GfwSL2RQGPLv"
      },
      "outputs": [],
      "source": [
        "# Building the model \n",
        "frq_items = apriori(basket_France, min_support = 0.1, use_colnames = True) \n",
        "  \n",
        "# Collecting the inferred rules in a dataframe \n",
        "rules = association_rules(frq_items, metric =\"lift\", min_threshold = 1) \n",
        "rules = rules.sort_values(['confidence', 'lift'], ascending =[False, False]) \n"
      ]
    },
    {
      "cell_type": "code",
      "execution_count": 23,
      "metadata": {
        "colab": {
          "base_uri": "https://localhost:8080/"
        },
        "id": "t3Yn_lzVGPLw",
        "outputId": "bb933c03-fe39-4f4c-d0c5-5e8ebdbdff77"
      },
      "outputs": [
        {
          "output_type": "stream",
          "name": "stdout",
          "text": [
            "                                          antecedents  \\\n",
            "4                   (PACK OF 72 RETROSPOT CAKE CASES)   \n",
            "35                          (TEA PARTY BIRTHDAY CARD)   \n",
            "20                    (RED TOADSTOOL LED NIGHT LIGHT)   \n",
            "24               (ROUND SNACK BOXES SET OF4 WOODLAND)   \n",
            "62  (SET/20 RED RETROSPOT PAPER NAPKINS, SET/6 RED...   \n",
            "\n",
            "                        consequents  antecedent support  consequent support  \\\n",
            "4                         (POSTAGE)            0.118812            0.792079   \n",
            "35                        (POSTAGE)            0.113861            0.792079   \n",
            "20                        (POSTAGE)            0.168317            0.792079   \n",
            "24                        (POSTAGE)            0.128713            0.792079   \n",
            "62  (SET/6 RED SPOTTY PAPER PLATES)            0.113861            0.163366   \n",
            "\n",
            "     support  confidence      lift  leverage  conviction  \n",
            "4   0.118812    1.000000  1.262500  0.024703         inf  \n",
            "35  0.113861    1.000000  1.262500  0.023674         inf  \n",
            "20  0.163366    0.970588  1.225368  0.030046    7.069307  \n",
            "24  0.123762    0.961538  1.213942  0.021812    5.405941  \n",
            "62  0.108911    0.956522  5.855072  0.090310   19.242574  \n"
          ]
        }
      ],
      "source": [
        "print(rules.head()) "
      ]
    },
    {
      "cell_type": "markdown",
      "metadata": {
        "id": "zhpUlR5NGPLw"
      },
      "source": [
        "#From the above output, it can be seen that paper cups and plates are bought together in France. "
      ]
    }
  ],
  "metadata": {
    "kernelspec": {
      "display_name": "Python 3",
      "language": "python",
      "name": "python3"
    },
    "language_info": {
      "codemirror_mode": {
        "name": "ipython",
        "version": 3
      },
      "file_extension": ".py",
      "mimetype": "text/x-python",
      "name": "python",
      "nbconvert_exporter": "python",
      "pygments_lexer": "ipython3",
      "version": "3.8.3"
    },
    "colab": {
      "provenance": []
    }
  },
  "nbformat": 4,
  "nbformat_minor": 0
}