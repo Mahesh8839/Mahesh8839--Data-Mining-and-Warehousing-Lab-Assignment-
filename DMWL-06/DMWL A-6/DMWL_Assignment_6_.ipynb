{
  "cells": [
    {
      "cell_type": "markdown",
      "id": "b19a18cd",
      "metadata": {
        "id": "b19a18cd"
      },
      "source": [
        "##  Assignment No 06 - Visualisation of data using different visualisation technique"
      ]
    },
    {
      "cell_type": "code",
      "execution_count": 3,
      "id": "199f7be8",
      "metadata": {
        "id": "199f7be8"
      },
      "outputs": [],
      "source": [
        "# importing all the libraries \n",
        "import pandas as pd\n",
        "import seaborn as sns\n",
        "import matplotlib.pyplot as plt\n",
        "from bokeh.plotting import figure, output_file, show"
      ]
    },
    {
      "cell_type": "code",
      "execution_count": 4,
      "id": "a9f2444f",
      "metadata": {
        "id": "a9f2444f"
      },
      "outputs": [],
      "source": [
        "# reading the database\n",
        "data = pd.read_csv(\"Shop.csv\")"
      ]
    },
    {
      "cell_type": "code",
      "execution_count": 5,
      "id": "6dbee437",
      "metadata": {
        "colab": {
          "base_uri": "https://localhost:8080/",
          "height": 363
        },
        "id": "6dbee437",
        "outputId": "c2c686d7-d0b7-454a-d794-7d8d3cd7e362"
      },
      "outputs": [
        {
          "output_type": "display_data",
          "data": {
            "text/plain": [
              "   total_bill   tip     sex smoker  day    time  size\n",
              "0       16.99  1.01  Female     No  Sun  Dinner     2\n",
              "1       10.34  1.66    Male     No  Sun  Dinner     3\n",
              "2       21.01  3.50    Male     No  Sun  Dinner     3\n",
              "3       23.68  3.31    Male     No  Sun  Dinner     2\n",
              "4       24.59  3.61  Female     No  Sun  Dinner     4\n",
              "5       25.29  4.71    Male     No  Sun  Dinner     4\n",
              "6        8.77  2.00    Male     No  Sun  Dinner     2\n",
              "7       26.88  3.12    Male     No  Sun  Dinner     4\n",
              "8       15.04  1.96    Male     No  Sun  Dinner     2\n",
              "9       14.78  3.23    Male     No  Sun  Dinner     2"
            ],
            "text/html": [
              "\n",
              "  <div id=\"df-2b89dadd-a5e6-4341-ac82-82e0365c6646\">\n",
              "    <div class=\"colab-df-container\">\n",
              "      <div>\n",
              "<style scoped>\n",
              "    .dataframe tbody tr th:only-of-type {\n",
              "        vertical-align: middle;\n",
              "    }\n",
              "\n",
              "    .dataframe tbody tr th {\n",
              "        vertical-align: top;\n",
              "    }\n",
              "\n",
              "    .dataframe thead th {\n",
              "        text-align: right;\n",
              "    }\n",
              "</style>\n",
              "<table border=\"1\" class=\"dataframe\">\n",
              "  <thead>\n",
              "    <tr style=\"text-align: right;\">\n",
              "      <th></th>\n",
              "      <th>total_bill</th>\n",
              "      <th>tip</th>\n",
              "      <th>sex</th>\n",
              "      <th>smoker</th>\n",
              "      <th>day</th>\n",
              "      <th>time</th>\n",
              "      <th>size</th>\n",
              "    </tr>\n",
              "  </thead>\n",
              "  <tbody>\n",
              "    <tr>\n",
              "      <th>0</th>\n",
              "      <td>16.99</td>\n",
              "      <td>1.01</td>\n",
              "      <td>Female</td>\n",
              "      <td>No</td>\n",
              "      <td>Sun</td>\n",
              "      <td>Dinner</td>\n",
              "      <td>2</td>\n",
              "    </tr>\n",
              "    <tr>\n",
              "      <th>1</th>\n",
              "      <td>10.34</td>\n",
              "      <td>1.66</td>\n",
              "      <td>Male</td>\n",
              "      <td>No</td>\n",
              "      <td>Sun</td>\n",
              "      <td>Dinner</td>\n",
              "      <td>3</td>\n",
              "    </tr>\n",
              "    <tr>\n",
              "      <th>2</th>\n",
              "      <td>21.01</td>\n",
              "      <td>3.50</td>\n",
              "      <td>Male</td>\n",
              "      <td>No</td>\n",
              "      <td>Sun</td>\n",
              "      <td>Dinner</td>\n",
              "      <td>3</td>\n",
              "    </tr>\n",
              "    <tr>\n",
              "      <th>3</th>\n",
              "      <td>23.68</td>\n",
              "      <td>3.31</td>\n",
              "      <td>Male</td>\n",
              "      <td>No</td>\n",
              "      <td>Sun</td>\n",
              "      <td>Dinner</td>\n",
              "      <td>2</td>\n",
              "    </tr>\n",
              "    <tr>\n",
              "      <th>4</th>\n",
              "      <td>24.59</td>\n",
              "      <td>3.61</td>\n",
              "      <td>Female</td>\n",
              "      <td>No</td>\n",
              "      <td>Sun</td>\n",
              "      <td>Dinner</td>\n",
              "      <td>4</td>\n",
              "    </tr>\n",
              "    <tr>\n",
              "      <th>5</th>\n",
              "      <td>25.29</td>\n",
              "      <td>4.71</td>\n",
              "      <td>Male</td>\n",
              "      <td>No</td>\n",
              "      <td>Sun</td>\n",
              "      <td>Dinner</td>\n",
              "      <td>4</td>\n",
              "    </tr>\n",
              "    <tr>\n",
              "      <th>6</th>\n",
              "      <td>8.77</td>\n",
              "      <td>2.00</td>\n",
              "      <td>Male</td>\n",
              "      <td>No</td>\n",
              "      <td>Sun</td>\n",
              "      <td>Dinner</td>\n",
              "      <td>2</td>\n",
              "    </tr>\n",
              "    <tr>\n",
              "      <th>7</th>\n",
              "      <td>26.88</td>\n",
              "      <td>3.12</td>\n",
              "      <td>Male</td>\n",
              "      <td>No</td>\n",
              "      <td>Sun</td>\n",
              "      <td>Dinner</td>\n",
              "      <td>4</td>\n",
              "    </tr>\n",
              "    <tr>\n",
              "      <th>8</th>\n",
              "      <td>15.04</td>\n",
              "      <td>1.96</td>\n",
              "      <td>Male</td>\n",
              "      <td>No</td>\n",
              "      <td>Sun</td>\n",
              "      <td>Dinner</td>\n",
              "      <td>2</td>\n",
              "    </tr>\n",
              "    <tr>\n",
              "      <th>9</th>\n",
              "      <td>14.78</td>\n",
              "      <td>3.23</td>\n",
              "      <td>Male</td>\n",
              "      <td>No</td>\n",
              "      <td>Sun</td>\n",
              "      <td>Dinner</td>\n",
              "      <td>2</td>\n",
              "    </tr>\n",
              "  </tbody>\n",
              "</table>\n",
              "</div>\n",
              "      <button class=\"colab-df-convert\" onclick=\"convertToInteractive('df-2b89dadd-a5e6-4341-ac82-82e0365c6646')\"\n",
              "              title=\"Convert this dataframe to an interactive table.\"\n",
              "              style=\"display:none;\">\n",
              "        \n",
              "  <svg xmlns=\"http://www.w3.org/2000/svg\" height=\"24px\"viewBox=\"0 0 24 24\"\n",
              "       width=\"24px\">\n",
              "    <path d=\"M0 0h24v24H0V0z\" fill=\"none\"/>\n",
              "    <path d=\"M18.56 5.44l.94 2.06.94-2.06 2.06-.94-2.06-.94-.94-2.06-.94 2.06-2.06.94zm-11 1L8.5 8.5l.94-2.06 2.06-.94-2.06-.94L8.5 2.5l-.94 2.06-2.06.94zm10 10l.94 2.06.94-2.06 2.06-.94-2.06-.94-.94-2.06-.94 2.06-2.06.94z\"/><path d=\"M17.41 7.96l-1.37-1.37c-.4-.4-.92-.59-1.43-.59-.52 0-1.04.2-1.43.59L10.3 9.45l-7.72 7.72c-.78.78-.78 2.05 0 2.83L4 21.41c.39.39.9.59 1.41.59.51 0 1.02-.2 1.41-.59l7.78-7.78 2.81-2.81c.8-.78.8-2.07 0-2.86zM5.41 20L4 18.59l7.72-7.72 1.47 1.35L5.41 20z\"/>\n",
              "  </svg>\n",
              "      </button>\n",
              "      \n",
              "  <style>\n",
              "    .colab-df-container {\n",
              "      display:flex;\n",
              "      flex-wrap:wrap;\n",
              "      gap: 12px;\n",
              "    }\n",
              "\n",
              "    .colab-df-convert {\n",
              "      background-color: #E8F0FE;\n",
              "      border: none;\n",
              "      border-radius: 50%;\n",
              "      cursor: pointer;\n",
              "      display: none;\n",
              "      fill: #1967D2;\n",
              "      height: 32px;\n",
              "      padding: 0 0 0 0;\n",
              "      width: 32px;\n",
              "    }\n",
              "\n",
              "    .colab-df-convert:hover {\n",
              "      background-color: #E2EBFA;\n",
              "      box-shadow: 0px 1px 2px rgba(60, 64, 67, 0.3), 0px 1px 3px 1px rgba(60, 64, 67, 0.15);\n",
              "      fill: #174EA6;\n",
              "    }\n",
              "\n",
              "    [theme=dark] .colab-df-convert {\n",
              "      background-color: #3B4455;\n",
              "      fill: #D2E3FC;\n",
              "    }\n",
              "\n",
              "    [theme=dark] .colab-df-convert:hover {\n",
              "      background-color: #434B5C;\n",
              "      box-shadow: 0px 1px 3px 1px rgba(0, 0, 0, 0.15);\n",
              "      filter: drop-shadow(0px 1px 2px rgba(0, 0, 0, 0.3));\n",
              "      fill: #FFFFFF;\n",
              "    }\n",
              "  </style>\n",
              "\n",
              "      <script>\n",
              "        const buttonEl =\n",
              "          document.querySelector('#df-2b89dadd-a5e6-4341-ac82-82e0365c6646 button.colab-df-convert');\n",
              "        buttonEl.style.display =\n",
              "          google.colab.kernel.accessAllowed ? 'block' : 'none';\n",
              "\n",
              "        async function convertToInteractive(key) {\n",
              "          const element = document.querySelector('#df-2b89dadd-a5e6-4341-ac82-82e0365c6646');\n",
              "          const dataTable =\n",
              "            await google.colab.kernel.invokeFunction('convertToInteractive',\n",
              "                                                     [key], {});\n",
              "          if (!dataTable) return;\n",
              "\n",
              "          const docLinkHtml = 'Like what you see? Visit the ' +\n",
              "            '<a target=\"_blank\" href=https://colab.research.google.com/notebooks/data_table.ipynb>data table notebook</a>'\n",
              "            + ' to learn more about interactive tables.';\n",
              "          element.innerHTML = '';\n",
              "          dataTable['output_type'] = 'display_data';\n",
              "          await google.colab.output.renderOutput(dataTable, element);\n",
              "          const docLink = document.createElement('div');\n",
              "          docLink.innerHTML = docLinkHtml;\n",
              "          element.appendChild(docLink);\n",
              "        }\n",
              "      </script>\n",
              "    </div>\n",
              "  </div>\n",
              "  "
            ]
          },
          "metadata": {}
        }
      ],
      "source": [
        "# printing the top 10 rows\n",
        "display(data.head(10))\n"
      ]
    },
    {
      "cell_type": "code",
      "execution_count": 6,
      "id": "f8b3c984",
      "metadata": {
        "colab": {
          "base_uri": "https://localhost:8080/"
        },
        "id": "f8b3c984",
        "outputId": "0d6388ee-58c2-4400-8f63-3ab6e5269948"
      },
      "outputs": [
        {
          "output_type": "execute_result",
          "data": {
            "text/plain": [
              "total_bill    0\n",
              "tip           0\n",
              "sex           0\n",
              "smoker        0\n",
              "day           0\n",
              "time          0\n",
              "size          0\n",
              "dtype: int64"
            ]
          },
          "metadata": {},
          "execution_count": 6
        }
      ],
      "source": [
        "#checking missing value\n",
        "data.isnull().sum()"
      ]
    },
    {
      "cell_type": "markdown",
      "id": "3073240f",
      "metadata": {
        "id": "3073240f"
      },
      "source": [
        "### Visualisation technique - 01"
      ]
    },
    {
      "cell_type": "code",
      "execution_count": 7,
      "id": "17eed724",
      "metadata": {
        "colab": {
          "base_uri": "https://localhost:8080/",
          "height": 296
        },
        "id": "17eed724",
        "outputId": "539036d3-9fec-4809-b37b-6fc156cc3cd6"
      },
      "outputs": [
        {
          "output_type": "execute_result",
          "data": {
            "text/plain": [
              "<matplotlib.axes._subplots.AxesSubplot at 0x7fba31b5c4f0>"
            ]
          },
          "metadata": {},
          "execution_count": 7
        },
        {
          "output_type": "display_data",
          "data": {
            "text/plain": [
              "<Figure size 432x288 with 1 Axes>"
            ],
            "image/png": "[encoded data removed]"
          },
          "metadata": {
            "needs_background": "light"
          }
        }
      ],
      "source": [
        "# Scatter plot with day against tip\n",
        "sns.scatterplot(x='day', y='tip', data=data,\n",
        "               hue='sex')"
      ]
    },
    {
      "cell_type": "markdown",
      "id": "35982b63",
      "metadata": {
        "id": "35982b63"
      },
      "source": [
        "### Visualisation technique - 02"
      ]
    },
    {
      "cell_type": "code",
      "execution_count": 8,
      "id": "c37aaac6",
      "metadata": {
        "colab": {
          "base_uri": "https://localhost:8080/",
          "height": 295
        },
        "id": "c37aaac6",
        "outputId": "8a32abfc-a73f-4202-b6b2-959e7871c943"
      },
      "outputs": [
        {
          "output_type": "display_data",
          "data": {
            "text/plain": [
              "<Figure size 432x288 with 2 Axes>"
            ],
            "image/png": "[encoded data removed]"
          },
          "metadata": {
            "needs_background": "light"
          }
        }
      ],
      "source": [
        "# Scatter plot with day against tip\n",
        "plt.scatter(data['day'], data['tip'], c=data['size'],\n",
        "            s=data['total_bill'])\n",
        " \n",
        "# Adding Title to the Plot\n",
        "plt.title(\"Scatter Plot\")\n",
        " \n",
        "# Setting the X and Y labels\n",
        "plt.xlabel('Day')\n",
        "plt.ylabel('Tip')\n",
        " \n",
        "plt.colorbar()\n",
        " \n",
        "plt.show()"
      ]
    },
    {
      "cell_type": "markdown",
      "id": "6c5fe95d",
      "metadata": {
        "id": "6c5fe95d"
      },
      "source": [
        "### Visualisation technique - 03"
      ]
    },
    {
      "cell_type": "code",
      "execution_count": 9,
      "id": "15b8ceab",
      "metadata": {
        "colab": {
          "base_uri": "https://localhost:8080/",
          "height": 282
        },
        "id": "15b8ceab",
        "outputId": "ef333f91-af7a-436d-a342-f094e2d82613"
      },
      "outputs": [
        {
          "output_type": "execute_result",
          "data": {
            "text/plain": [
              "[<matplotlib.lines.Line2D at 0x7fba3155ea90>]"
            ]
          },
          "metadata": {},
          "execution_count": 9
        },
        {
          "output_type": "display_data",
          "data": {
            "text/plain": [
              "<Figure size 432x288 with 1 Axes>"
            ],
            "image/png": "[encoded data removed]"
          },
          "metadata": {
            "needs_background": "light"
          }
        }
      ],
      "source": [
        "# Scatter plot with day against tip\n",
        "plt.plot(data['tip'])\n",
        "plt.plot(data['size'])"
      ]
    },
    {
      "cell_type": "markdown",
      "id": "2948b2c7",
      "metadata": {
        "id": "2948b2c7"
      },
      "source": [
        "### Visualisation technique - 04"
      ]
    },
    {
      "cell_type": "code",
      "execution_count": 10,
      "id": "e20f8949",
      "metadata": {
        "colab": {
          "base_uri": "https://localhost:8080/",
          "height": 312
        },
        "id": "e20f8949",
        "outputId": "b190db4c-45e3-4e86-d777-bcf5cfac3e6e"
      },
      "outputs": [
        {
          "output_type": "execute_result",
          "data": {
            "text/plain": [
              "Text(0, 0.5, 'Tip')"
            ]
          },
          "metadata": {},
          "execution_count": 10
        },
        {
          "output_type": "display_data",
          "data": {
            "text/plain": [
              "<Figure size 432x288 with 1 Axes>"
            ],
            "image/png": "[encoded data removed]"
          },
          "metadata": {
            "needs_background": "light"
          }
        }
      ],
      "source": [
        "# Bar chart with day against tip\n",
        "plt.bar(data['day'], data['tip'])\n",
        " \n",
        "plt.title(\"Bar Chart\")\n",
        " \n",
        "# Setting the X and Y labels\n",
        "plt.xlabel('Day')\n",
        "plt.ylabel('Tip')"
      ]
    },
    {
      "cell_type": "markdown",
      "id": "e12d44fd",
      "metadata": {
        "id": "e12d44fd"
      },
      "source": [
        "### Visualisation technique - 05"
      ]
    },
    {
      "cell_type": "code",
      "execution_count": 11,
      "id": "02d52544",
      "metadata": {
        "colab": {
          "base_uri": "https://localhost:8080/",
          "height": 298
        },
        "id": "02d52544",
        "outputId": "69440de8-5fe0-4ea9-e885-babb9309be41"
      },
      "outputs": [
        {
          "output_type": "execute_result",
          "data": {
            "text/plain": [
              "Text(0.5, 1.0, 'Histogram')"
            ]
          },
          "metadata": {},
          "execution_count": 11
        },
        {
          "output_type": "display_data",
          "data": {
            "text/plain": [
              "<Figure size 432x288 with 1 Axes>"
            ],
            "image/png": "[encoded data removed]"
          },
          "metadata": {
            "needs_background": "light"
          }
        }
      ],
      "source": [
        "# histogram of total_bills\n",
        "plt.hist(data['total_bill'])\n",
        "plt.title(\"Histogram\") "
      ]
    },
    {
      "cell_type": "markdown",
      "id": "c3b67126",
      "metadata": {
        "id": "c3b67126"
      },
      "source": [
        "### Visualisation technique - 06"
      ]
    },
    {
      "cell_type": "code",
      "execution_count": 12,
      "id": "a88c37bf",
      "metadata": {
        "colab": {
          "base_uri": "https://localhost:8080/",
          "height": 312
        },
        "id": "a88c37bf",
        "outputId": "c0623923-8153-4a91-8c94-2c2292a19037"
      },
      "outputs": [
        {
          "output_type": "execute_result",
          "data": {
            "text/plain": [
              "Text(0.5, 1.0, 'Title using Matplotlib Function')"
            ]
          },
          "metadata": {},
          "execution_count": 12
        },
        {
          "output_type": "display_data",
          "data": {
            "text/plain": [
              "<Figure size 432x288 with 1 Axes>"
            ],
            "image/png": "[encoded data removed]"
          },
          "metadata": {
            "needs_background": "light"
          }
        }
      ],
      "source": [
        "# draw lineplot\n",
        "sns.lineplot(x=\"sex\", y=\"total_bill\", data=data)\n",
        " \n",
        "# setting the title using Matplotlib\n",
        "plt.title('Title using Matplotlib Function') "
      ]
    },
    {
      "cell_type": "markdown",
      "id": "f330b384",
      "metadata": {
        "id": "f330b384"
      },
      "source": [
        "### Visualisation technique - 07"
      ]
    },
    {
      "cell_type": "code",
      "execution_count": 14,
      "id": "64155030",
      "metadata": {
        "colab": {
          "base_uri": "https://localhost:8080/"
        },
        "id": "64155030",
        "outputId": "611adc24-70c6-4470-efcd-30c5220d4adf"
      },
      "outputs": [
        {
          "output_type": "stream",
          "name": "stderr",
          "text": [
            "BokehUserWarning: ColumnDataSource's columns must be of the same length. Current lengths: ('x', 123), ('y', 244)\n"
          ]
        }
      ],
      "source": [
        "# instantiating the figure object\n",
        "graph = figure(title = \"Bokeh Bar Chart\")\n",
        " \n",
        "# reading the database\n",
        "data = pd.read_csv(\"Shop.csv\")\n",
        " \n",
        "# Count of each unique value of\n",
        "# tip column\n",
        "df = data['tip'].value_counts()\n",
        " \n",
        "# plotting the graph\n",
        "graph.line(df, data['tip'])\n",
        " \n",
        "# displaying the model\n",
        "show(graph)"
      ]
    },
    {
      "cell_type": "markdown",
      "id": "aa24fe81",
      "metadata": {
        "id": "aa24fe81"
      },
      "source": [
        "### Visualization tecnique - 08"
      ]
    },
    {
      "cell_type": "code",
      "execution_count": 16,
      "id": "fb6f0407",
      "metadata": {
        "colab": {
          "base_uri": "https://localhost:8080/",
          "height": 565
        },
        "id": "fb6f0407",
        "outputId": "33a585c1-e1ec-4083-d92b-1d39022c9020"
      },
      "outputs": [
        {
          "output_type": "execute_result",
          "data": {
            "text/plain": [
              "([<matplotlib.patches.Wedge at 0x7fba30f74850>,\n",
              "  <matplotlib.patches.Wedge at 0x7fba30f74d00>,\n",
              "  <matplotlib.patches.Wedge at 0x7fba30f823d0>,\n",
              "  <matplotlib.patches.Wedge at 0x7fba30f82a30>],\n",
              " [Text(0.47909423581850485, 0.990186201280084, 'Sat'),\n",
              "  Text(-1.0967192869113325, -0.08489290734035711, 'Sun'),\n",
              "  Text(0.3074340394718734, -1.0561649072820052, 'Thur'),\n",
              "  Text(1.06724906774893, -0.2664196452760947, 'Fri')],\n",
              " [Text(0.26132412862827537, 0.5401015643345912, '35.7%'),\n",
              "  Text(-0.598210520133454, -0.04630522218564932, '31.1%'),\n",
              "  Text(0.16769129425738546, -0.5760899494265482, '25.4%'),\n",
              "  Text(0.5821358551357799, -0.14531980651423346, '7.8%')])"
            ]
          },
          "metadata": {},
          "execution_count": 16
        },
        {
          "output_type": "display_data",
          "data": {
            "text/plain": [
              "<Figure size 1080x432 with 1 Axes>"
            ],
            "image/png": "[encoded data removed]"
          },
          "metadata": {}
        }
      ],
      "source": [
        "plt.figure(figsize = (15, 6))\n",
        "plt.pie(data.day.value_counts(), autopct=\"%.1f%%\", radius=1, labels=['Sat', 'Sun', 'Thur', 'Fri'])"
      ]
    },
    {
      "cell_type": "markdown",
      "id": "18cbc832",
      "metadata": {
        "id": "18cbc832"
      },
      "source": [
        "### Visualization tecnique - 08"
      ]
    },
    {
      "cell_type": "code",
      "execution_count": 17,
      "id": "92485db7",
      "metadata": {
        "colab": {
          "base_uri": "https://localhost:8080/",
          "height": 302
        },
        "id": "92485db7",
        "outputId": "703c1953-a4b9-4376-b789-d355a4267d45"
      },
      "outputs": [
        {
          "output_type": "execute_result",
          "data": {
            "text/plain": [
              "Text(0, 0.5, 'Total Bill')"
            ]
          },
          "metadata": {},
          "execution_count": 17
        },
        {
          "output_type": "display_data",
          "data": {
            "text/plain": [
              "<Figure size 432x288 with 1 Axes>"
            ],
            "image/png": "[encoded data removed]"
          },
          "metadata": {
            "needs_background": "light"
          }
        }
      ],
      "source": [
        "# Box Plot -------->\n",
        "\n",
        "plt.boxplot(data['total_bill'])\n",
        "\n",
        "#add labels for five number summary\n",
        "plt.text(x = 1.1, y=data['total_bill'].min(), s='min')\n",
        "plt.text(x = 1.1, y=data.total_bill.quantile(0.25), s='Q1')\n",
        "plt.text(x = 1.1, y=data['total_bill'].median(), s='median(Q2)')\n",
        "plt.text(x = 1.1, y=data.total_bill.quantile(0.75), s='Q3')\n",
        "plt.text(x = 1.1, y=data['total_bill'].max(), s='max')\n",
        "\n",
        "#add the graph title and axes labels\n",
        "plt.title('Boxplot Of Total Bill Amount', fontsize = 18)\n",
        "plt.ylabel('Total Bill', fontsize = 15)\n"
      ]
    },
    {
      "cell_type": "code",
      "execution_count": 17,
      "id": "98468f2d",
      "metadata": {
        "id": "98468f2d"
      },
      "outputs": [],
      "source": []
    },
    {
      "cell_type": "code",
      "execution_count": 17,
      "id": "cf8342fd",
      "metadata": {
        "id": "cf8342fd"
      },
      "outputs": [],
      "source": []
    }
  ],
  "metadata": {
    "kernelspec": {
      "display_name": "Python 3 (ipykernel)",
      "language": "python",
      "name": "python3"
    },
    "language_info": {
      "codemirror_mode": {
        "name": "ipython",
        "version": 3
      },
      "file_extension": ".py",
      "mimetype": "text/x-python",
      "name": "python",
      "nbconvert_exporter": "python",
      "pygments_lexer": "ipython3",
      "version": "3.7.1"
    },
    "colab": {
      "provenance": []
    }
  },
  "nbformat": 4,
  "nbformat_minor": 5
}